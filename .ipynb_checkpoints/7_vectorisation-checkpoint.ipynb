{
 "cells": [
  {
   "cell_type": "markdown",
   "id": "a2155283-c438-4970-ba54-f8255223e7bd",
   "metadata": {},
   "source": [
    "# Vectorisation Methods\n",
    "\n",
    "Two approaches to vectorisation provided by Scikit-Learn {cite}`sklearn_2011` are compared.\n",
    "\n",
    "A standard frequency matrix and a term frequency - inverse document frequency matrix are created.\n",
    "\n",
    "Multi-nomial naive Bayes, logistic regression, and support vector machine classification is performed on each document matrix.\n",
    "\n",
    "F1 and balanced accuracy scores are obtained using 3-fold nested cross validation to provide a cursory indictor of the most effective document matrix for use. "
   ]
  },
  {
   "cell_type": "code",
   "execution_count": 1,
   "id": "168e1e70-9ac2-4c7e-b16b-a74081215b93",
   "metadata": {
    "tags": [
     "hide-input"
    ]
   },
   "outputs": [
    {
     "name": "stdout",
     "output_type": "stream",
     "text": [
      "Majority class = 46295 positive reviews\n",
      "Minority class = 1900 negative reviews\n"
     ]
    }
   ],
   "source": [
    "import pandas as pd\n",
    "import numpy as np\n",
    "\n",
    "# load data ----\n",
    "train_df = pd.read_csv('_data/train_data_lemma.csv')\n",
    "# assign x and y\n",
    "X_train = train_df.drop(columns = ['voted_up'])\n",
    "y_train = train_df[['voted_up']]\n",
    "# flatten y\n",
    "y_train = y_train.values.ravel()\n",
    "# encode variables (minority class = 1)\n",
    "y_train = np.where(y_train=='not_recommend', 1, 0)\n",
    "\n",
    "# vectorise docs ---\n",
    "from sklearn.feature_extraction.text import CountVectorizer, TfidfVectorizer\n",
    "# CV\n",
    "cv = CountVectorizer()\n",
    "cv_bow = cv.fit_transform(X_train.review_text)\n",
    "# TFIDF\n",
    "tf = TfidfVectorizer()\n",
    "tf_bow = tf.fit_transform(X_train.review_text)\n",
    "\n",
    "from collections import Counter\n",
    "\n",
    "print(f\"Majority class = {Counter(y_train)[0]} positive reviews\")\n",
    "print(f\"Minority class = {Counter(y_train)[1]} negative reviews\")"
   ]
  },
  {
   "cell_type": "markdown",
   "id": "5527d001-9863-493c-b5f5-34cd88dc8075",
   "metadata": {},
   "source": [
    "## Modelling & Comparison"
   ]
  },
  {
   "cell_type": "code",
   "execution_count": 2,
   "id": "1017e945-3c59-47bc-b46f-cf7ed349738f",
   "metadata": {
    "tags": [
     "hide-input"
    ]
   },
   "outputs": [],
   "source": [
    "from numpy import mean\n",
    "\n",
    "# modelling\n",
    "from sklearn.naive_bayes import MultinomialNB\n",
    "from sklearn.linear_model import LogisticRegression\n",
    "from sklearn.svm import SVC\n",
    "\n",
    "# model metrics\n",
    "from sklearn.metrics import f1_score, balanced_accuracy_score\n",
    "from sklearn.model_selection import cross_validate\n",
    "\n",
    "# define scoring metrics\n",
    "scoring = {'f1':'f1', \n",
    "           'balanced_accuracy':'balanced_accuracy'}\n",
    "# Set empty lists to store mean results\n",
    "f1 = []\n",
    "bal = []\n",
    "\n",
    "# fit models\n",
    "\n",
    "# NB ----\n",
    "nb_cv = MultinomialNB().fit(cv_bow, y_train)\n",
    "nb_cv_scores = cross_validate(nb_cv, cv_bow, y_train, scoring = scoring, cv=3)\n",
    "\n",
    "nb_tf = MultinomialNB().fit(tf_bow, y_train)\n",
    "nb_tf_scores = cross_validate(nb_tf, tf_bow, y_train, scoring = scoring, cv=3)\n",
    "\n",
    "f1.extend([mean(nb_cv_scores['test_f1']),mean(nb_tf_scores['test_f1'])])\n",
    "bal.extend([mean(nb_cv_scores['test_balanced_accuracy']),mean(nb_tf_scores['test_balanced_accuracy'])])\n",
    "\n",
    "# LR ----\n",
    "lr_cv = LogisticRegression(solver = 'liblinear', max_iter = 500).fit(cv_bow, y_train)\n",
    "lr_cv_scores = cross_validate(lr_cv, cv_bow, y_train, scoring = scoring, cv=3)\n",
    "\n",
    "lr_tf = LogisticRegression(solver = 'liblinear', max_iter = 500).fit(tf_bow, y_train)\n",
    "lr_tf_scores = cross_validate(lr_tf, tf_bow, y_train, scoring = scoring, cv=3)\n",
    "\n",
    "f1.extend([mean(lr_cv_scores['test_f1']),mean(lr_tf_scores['test_f1'])])\n",
    "bal.extend([mean(lr_cv_scores['test_balanced_accuracy']),mean(lr_tf_scores['test_balanced_accuracy'])])\n",
    "\n",
    "# SVM ----\n",
    "svm_cv = SVC(kernel = 'linear').fit(cv_bow, y_train)\n",
    "svm_cv_scores = cross_validate(svm_cv, cv_bow, y_train, scoring = scoring, cv=3)\n",
    "\n",
    "svm_tf = SVC(kernel = 'linear').fit(tf_bow, y_train)\n",
    "svm_tf_scores = cross_validate(svm_tf, tf_bow, y_train, scoring = scoring, cv=3)\n",
    "\n",
    "f1.extend([mean(svm_cv_scores['test_f1']),mean(svm_tf_scores['test_f1'])])\n",
    "bal.extend([mean(svm_cv_scores['test_balanced_accuracy']),mean(svm_tf_scores['test_balanced_accuracy'])])"
   ]
  },
  {
   "cell_type": "markdown",
   "id": "01f40337-e4cc-4f68-a8c0-d9450a7f2e18",
   "metadata": {},
   "source": [
    "Results demonstrate highest accuracy when training models using the standard frequency matrix.\n",
    "\n",
    "However, classification accuracy is incredibly poor in both cases.\n",
    "\n",
    "Balanced accuracy indicates that classification accuracy is little more than chance.\n",
    "\n",
    "Extremely low F1 score highlights very poor classification performance that is likely a result of the severe class imbalance present in the data.\n",
    "\n",
    "Despite these poor results, greater scores achieved using the standard document matrix indicate that it would be most advantageous to proceed with this vecotrisation strategy."
   ]
  },
  {
   "cell_type": "code",
   "execution_count": 3,
   "id": "9937455a-6f10-468c-99b6-febeb0dc3916",
   "metadata": {
    "tags": [
     "hide-input"
    ]
   },
   "outputs": [
    {
     "data": {
      "image/png": "[encoded data removed]",
      "text/plain": [
       "<Figure size 1134.12x500 with 2 Axes>"
      ]
     },
     "metadata": {},
     "output_type": "display_data"
    }
   ],
   "source": [
    "import seaborn as sns\n",
    "import matplotlib.pyplot as plt\n",
    "\n",
    "# create df\n",
    "df_vec = pd.DataFrame({\"Metric\" : [\"F1\"]*6 + [\"Bal. Accuracy\"]*6,\n",
    "              \"Accuracy\" : f1 + bal,\n",
    "              \"Model\" : [\"NB\",\"NB\",\"LR\",\"LR\",\"SVM\",\"SVM\"]*2,\n",
    "              \"Doc. Vector\": [\"CV\",\"TF-IDF\"] *6})\n",
    "\n",
    "# plot results\n",
    "sns.set_style('whitegrid')\n",
    "fg = sns.catplot(\n",
    "    data=df_vec, x=\"Model\", y=\"Accuracy\", col=\"Doc. Vector\", hue=\"Metric\",\n",
    "    palette = ['#88D8B0', '#FF6F69'],\n",
    "    kind=\"bar\"\n",
    ")\n",
    "fg.fig.suptitle(\"Vectorisation Comparison\", x = 0.46, y = 1.05, fontweight = \"bold\", fontsize = 14)\n",
    "fg.set_titles(\"{col_name}\");\n"
   ]
  },
  {
   "cell_type": "code",
   "execution_count": 5,
   "id": "4d02e8b3-79b6-4f27-ad73-219239c29b2b",
   "metadata": {},
   "outputs": [
    {
     "data": {
      "text/html": [
       "<div>\n",
       "<style scoped>\n",
       "    .dataframe tbody tr th:only-of-type {\n",
       "        vertical-align: middle;\n",
       "    }\n",
       "\n",
       "    .dataframe tbody tr th {\n",
       "        vertical-align: top;\n",
       "    }\n",
       "\n",
       "    .dataframe thead th {\n",
       "        text-align: right;\n",
       "    }\n",
       "</style>\n",
       "<table border=\"1\" class=\"dataframe\">\n",
       "  <thead>\n",
       "    <tr style=\"text-align: right;\">\n",
       "      <th></th>\n",
       "      <th>Metric</th>\n",
       "      <th>Accuracy</th>\n",
       "      <th>Model</th>\n",
       "      <th>Doc. Vector</th>\n",
       "    </tr>\n",
       "  </thead>\n",
       "  <tbody>\n",
       "    <tr>\n",
       "      <th>0</th>\n",
       "      <td>F1</td>\n",
       "      <td>0.276131</td>\n",
       "      <td>NB</td>\n",
       "      <td>CV</td>\n",
       "    </tr>\n",
       "    <tr>\n",
       "      <th>1</th>\n",
       "      <td>F1</td>\n",
       "      <td>0.001453</td>\n",
       "      <td>NB</td>\n",
       "      <td>TF-IDF</td>\n",
       "    </tr>\n",
       "    <tr>\n",
       "      <th>2</th>\n",
       "      <td>F1</td>\n",
       "      <td>0.414008</td>\n",
       "      <td>LR</td>\n",
       "      <td>CV</td>\n",
       "    </tr>\n",
       "    <tr>\n",
       "      <th>3</th>\n",
       "      <td>F1</td>\n",
       "      <td>0.219487</td>\n",
       "      <td>LR</td>\n",
       "      <td>TF-IDF</td>\n",
       "    </tr>\n",
       "    <tr>\n",
       "      <th>4</th>\n",
       "      <td>F1</td>\n",
       "      <td>0.408065</td>\n",
       "      <td>SVM</td>\n",
       "      <td>CV</td>\n",
       "    </tr>\n",
       "    <tr>\n",
       "      <th>5</th>\n",
       "      <td>F1</td>\n",
       "      <td>0.241144</td>\n",
       "      <td>SVM</td>\n",
       "      <td>TF-IDF</td>\n",
       "    </tr>\n",
       "    <tr>\n",
       "      <th>6</th>\n",
       "      <td>Bal. Accuracy</td>\n",
       "      <td>0.609779</td>\n",
       "      <td>NB</td>\n",
       "      <td>CV</td>\n",
       "    </tr>\n",
       "    <tr>\n",
       "      <th>7</th>\n",
       "      <td>Bal. Accuracy</td>\n",
       "      <td>0.499814</td>\n",
       "      <td>NB</td>\n",
       "      <td>TF-IDF</td>\n",
       "    </tr>\n",
       "    <tr>\n",
       "      <th>8</th>\n",
       "      <td>Bal. Accuracy</td>\n",
       "      <td>0.651350</td>\n",
       "      <td>LR</td>\n",
       "      <td>CV</td>\n",
       "    </tr>\n",
       "    <tr>\n",
       "      <th>9</th>\n",
       "      <td>Bal. Accuracy</td>\n",
       "      <td>0.563118</td>\n",
       "      <td>LR</td>\n",
       "      <td>TF-IDF</td>\n",
       "    </tr>\n",
       "    <tr>\n",
       "      <th>10</th>\n",
       "      <td>Bal. Accuracy</td>\n",
       "      <td>0.653960</td>\n",
       "      <td>SVM</td>\n",
       "      <td>CV</td>\n",
       "    </tr>\n",
       "    <tr>\n",
       "      <th>11</th>\n",
       "      <td>Bal. Accuracy</td>\n",
       "      <td>0.570429</td>\n",
       "      <td>SVM</td>\n",
       "      <td>TF-IDF</td>\n",
       "    </tr>\n",
       "  </tbody>\n",
       "</table>\n",
       "</div>"
      ],
      "text/plain": [
       "           Metric  Accuracy Model Doc. Vector\n",
       "0              F1  0.276131    NB          CV\n",
       "1              F1  0.001453    NB      TF-IDF\n",
       "2              F1  0.414008    LR          CV\n",
       "3              F1  0.219487    LR      TF-IDF\n",
       "4              F1  0.408065   SVM          CV\n",
       "5              F1  0.241144   SVM      TF-IDF\n",
       "6   Bal. Accuracy  0.609779    NB          CV\n",
       "7   Bal. Accuracy  0.499814    NB      TF-IDF\n",
       "8   Bal. Accuracy  0.651350    LR          CV\n",
       "9   Bal. Accuracy  0.563118    LR      TF-IDF\n",
       "10  Bal. Accuracy  0.653960   SVM          CV\n",
       "11  Bal. Accuracy  0.570429   SVM      TF-IDF"
      ]
     },
     "execution_count": 5,
     "metadata": {},
     "output_type": "execute_result"
    }
   ],
   "source": [
    "df_vec"
   ]
  }
 ],
 "metadata": {
  "kernelspec": {
   "display_name": "Python 3 (ipykernel)",
   "language": "python",
   "name": "python3"
  },
  "language_info": {
   "codemirror_mode": {
    "name": "ipython",
    "version": 3
   },
   "file_extension": ".py",
   "mimetype": "text/x-python",
   "name": "python",
   "nbconvert_exporter": "python",
   "pygments_lexer": "ipython3",
   "version": "3.10.4"
  }
 },
 "nbformat": 4,
 "nbformat_minor": 5
}
