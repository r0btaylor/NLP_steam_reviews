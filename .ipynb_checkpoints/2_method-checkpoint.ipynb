{
 "cells": [
  {
   "cell_type": "markdown",
   "id": "86da1511-0958-45ce-91ec-02e42c6ac98f",
   "metadata": {},
   "source": [
    "# Method\n",
    "\n",
    "In 2016, {cite:t}`maalej_2016` presented a machine learning solution to classify app store reviews as bug-fix, feature request, user experience or rating. \n",
    "\n",
    "Adopting a similar strategy in this current task would be the most logical approach. However, Maalej possessed an extensive set of lablled training data courtesy of the manual efforts of a team of willing assistants.\n",
    "\n",
    "In the absence of labelled data (or a team of assistants), a similiar approach was not practical in this instance.\n",
    "\n",
    "This leaves two potential approaches:\n",
    "\n",
    "1. Conduct unsupervised classifcation of review text and extract prominent terms associated with identified categories.\n",
    "2. Perform supervised classification using Steam's 'recommend' and 'not recommend' labels and extract terms associated with these positive vs. negative overall reviews.\n",
    "\n",
    "Approach 1 was attempted using unsupervised Latent Dirochlet Analysis. However, results were unsuccessful and this approach was abandoned.\n",
    "\n",
    "Approach 2 was adopted using the method outlined below:"
   ]
  },
  {
   "cell_type": "markdown",
   "id": "02efefbc-bd1c-450c-a408-8489f45f141a",
   "metadata": {},
   "source": [
    "<p align=\"center\"> <img src=\"https://i.imgur.com/wPoysqd.png\"> </p>"
   ]
  }
 ],
 "metadata": {
  "kernelspec": {
   "display_name": "Python 3 (ipykernel)",
   "language": "python",
   "name": "python3"
  },
  "language_info": {
   "codemirror_mode": {
    "name": "ipython",
    "version": 3
   },
   "file_extension": ".py",
   "mimetype": "text/x-python",
   "name": "python",
   "nbconvert_exporter": "python",
   "pygments_lexer": "ipython3",
   "version": "3.10.4"
  }
 },
 "nbformat": 4,
 "nbformat_minor": 5
}
