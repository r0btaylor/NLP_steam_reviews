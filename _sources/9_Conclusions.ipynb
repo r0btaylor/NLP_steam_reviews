{
 "cells": [
  {
   "cell_type": "markdown",
   "id": "cf049b74-d338-4c7e-9706-3a66fe82821a",
   "metadata": {},
   "source": [
    "# Conclusions\n",
    "\n",
    "![negtokens](images/postokens.png)"
   ]
  },
  {
   "cell_type": "markdown",
   "id": "e3345f0c-9201-4e39-9d3d-fe5ae0b9b574",
   "metadata": {},
   "source": [
    "Looking at the extracted noun tokens for each classification, it is clear that not much insight into the relevant aspects of game design can be inferred from the results.\n",
    "\n",
    "It would seem that the method of extracting the strongest coefficients from the fitted model is not an effective means of identifying salient issues.\n",
    "\n",
    "The likely cause of this failing is that the method employed here does not match identified aspects of game design referenced in the text with associated sentiment. Rather, this method unsuccessfully attempts to derive an understanding of sentiment from the strength of a token's coefficient in each classification. The logic of this is particularly flawed given the nature of Steam review content. While a review may be categorised as 'not recommend', the contents of that review is rarely all negative. Steam reviews have a tendency to include a variety of both positive and negative points yet this method is unable to distinguish those within each review.\n",
    "\n",
    "Greater success in identifying prominent issues of game design will likely be experienced by performing aspect based sentiment analysis. This would enable a sentence by sentence analysis of the review text and the assignment of a polarity score per sentence as opposed to an overall classification for each review. In doing so, this is far more likely to provide an accurate indiciation of specific positive or negative aspects of game design contained within the text of each user eview. This approach will, therefore, form the basis of follow-up work.\n",
    "\n",
    "Despite this, notable success was demonstrated in the accurate classification of user reviews on the basis of included text. Small victory!\n",
    "\n",
    "![negtokens](images/negtokens.png)\n"
   ]
  }
 ],
 "metadata": {
  "kernelspec": {
   "display_name": "Python 3 (ipykernel)",
   "language": "python",
   "name": "python3"
  },
  "language_info": {
   "codemirror_mode": {
    "name": "ipython",
    "version": 3
   },
   "file_extension": ".py",
   "mimetype": "text/x-python",
   "name": "python",
   "nbconvert_exporter": "python",
   "pygments_lexer": "ipython3",
   "version": "3.10.4"
  }
 },
 "nbformat": 4,
 "nbformat_minor": 5
}
