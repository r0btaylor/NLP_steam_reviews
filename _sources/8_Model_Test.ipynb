{
 "cells": [
  {
   "cell_type": "markdown",
   "id": "a26b3719-ab7c-41a3-aabb-df649f5d5515",
   "metadata": {},
   "source": [
    "## Load Data"
   ]
  },
  {
   "cell_type": "code",
   "execution_count": 11,
   "id": "a77d30dd-ff62-4576-be7b-bf73b2d3c550",
   "metadata": {},
   "outputs": [],
   "source": [
    "# data processing\n",
    "import pandas as pd\n",
    "import numpy as np\n",
    "from sklearn.model_selection import train_test_split\n",
    "\n",
    "# load data\n",
    "df = pd.read_csv('data/processed_review_data.csv')\n",
    "\n",
    "# Train-test split. 20% test. Stratify on y label\n",
    "X = df.drop(columns = ['classification'])\n",
    "y = df[['classification']]\n",
    "X_train, X_test, y_train, y_test = train_test_split(X, y, test_size = 0.2, random_state = 1, stratify = y)\n",
    "\n",
    "X_test['review_text'] = X_test['review_text'].astype(str)\n",
    "\n",
    "#flatten y\n",
    "y_test = y_test.values.ravel()\n",
    "# encode variables (minority class = 1)\n",
    "y_test = np.where(y_test=='Negative', 1, 0)"
   ]
  },
  {
   "cell_type": "markdown",
   "id": "9e11f443-47ec-446d-8c65-dd1b7caacc6c",
   "metadata": {},
   "source": [
    "## Load Functions"
   ]
  },
  {
   "cell_type": "code",
   "execution_count": 8,
   "id": "912eb846-3351-46a2-8f74-7893c3cd9786",
   "metadata": {},
   "outputs": [],
   "source": [
    "from functions import lower_case,expandContractions,alpha_num,consec_dup,lemma\n",
    "\n",
    "for func in [lower_case,expandContractions,alpha_num,consec_dup,lemma]:\n",
    "    X_test['review_text'] = X_test['review_text'].map(func)"
   ]
  },
  {
   "cell_type": "markdown",
   "id": "788973de-58da-426d-b53e-f37e339c4bc9",
   "metadata": {},
   "source": [
    "## Testing\n",
    "### Load Trained Models"
   ]
  },
  {
   "cell_type": "code",
   "execution_count": 12,
   "id": "28350b38-7345-4ae0-bda1-d2e361e82335",
   "metadata": {},
   "outputs": [],
   "source": [
    "# load trained models\n",
    "import pickle\n",
    "nb = pickle.load(open(\"data/nb_trained.sav\", 'rb'))\n",
    "lr = pickle.load(open(\"data/lr_trained.sav\", 'rb'))\n",
    "svm = pickle.load(open(\"data/svm_trained.sav\", 'rb'))"
   ]
  },
  {
   "cell_type": "markdown",
   "id": "16adf4b3-e714-4fe8-b9ea-42a6f819ecc9",
   "metadata": {},
   "source": [
    "### Fit Models to Test Data"
   ]
  },
  {
   "cell_type": "code",
   "execution_count": 48,
   "id": "d558826c-4316-4c0a-8921-bce27349c708",
   "metadata": {},
   "outputs": [
    {
     "data": {
      "text/html": [
       "<style>#sk-container-id-2 {color: black;background-color: white;}#sk-container-id-2 pre{padding: 0;}#sk-container-id-2 div.sk-toggleable {background-color: white;}#sk-container-id-2 label.sk-toggleable__label {cursor: pointer;display: block;width: 100%;margin-bottom: 0;padding: 0.3em;box-sizing: border-box;text-align: center;}#sk-container-id-2 label.sk-toggleable__label-arrow:before {content: \"▸\";float: left;margin-right: 0.25em;color: #696969;}#sk-container-id-2 label.sk-toggleable__label-arrow:hover:before {color: black;}#sk-container-id-2 div.sk-estimator:hover label.sk-toggleable__label-arrow:before {color: black;}#sk-container-id-2 div.sk-toggleable__content {max-height: 0;max-width: 0;overflow: hidden;text-align: left;background-color: #f0f8ff;}#sk-container-id-2 div.sk-toggleable__content pre {margin: 0.2em;color: black;border-radius: 0.25em;background-color: #f0f8ff;}#sk-container-id-2 input.sk-toggleable__control:checked~div.sk-toggleable__content {max-height: 200px;max-width: 100%;overflow: auto;}#sk-container-id-2 input.sk-toggleable__control:checked~label.sk-toggleable__label-arrow:before {content: \"▾\";}#sk-container-id-2 div.sk-estimator input.sk-toggleable__control:checked~label.sk-toggleable__label {background-color: #d4ebff;}#sk-container-id-2 div.sk-label input.sk-toggleable__control:checked~label.sk-toggleable__label {background-color: #d4ebff;}#sk-container-id-2 input.sk-hidden--visually {border: 0;clip: rect(1px 1px 1px 1px);clip: rect(1px, 1px, 1px, 1px);height: 1px;margin: -1px;overflow: hidden;padding: 0;position: absolute;width: 1px;}#sk-container-id-2 div.sk-estimator {font-family: monospace;background-color: #f0f8ff;border: 1px dotted black;border-radius: 0.25em;box-sizing: border-box;margin-bottom: 0.5em;}#sk-container-id-2 div.sk-estimator:hover {background-color: #d4ebff;}#sk-container-id-2 div.sk-parallel-item::after {content: \"\";width: 100%;border-bottom: 1px solid gray;flex-grow: 1;}#sk-container-id-2 div.sk-label:hover label.sk-toggleable__label {background-color: #d4ebff;}#sk-container-id-2 div.sk-serial::before {content: \"\";position: absolute;border-left: 1px solid gray;box-sizing: border-box;top: 0;bottom: 0;left: 50%;z-index: 0;}#sk-container-id-2 div.sk-serial {display: flex;flex-direction: column;align-items: center;background-color: white;padding-right: 0.2em;padding-left: 0.2em;position: relative;}#sk-container-id-2 div.sk-item {position: relative;z-index: 1;}#sk-container-id-2 div.sk-parallel {display: flex;align-items: stretch;justify-content: center;background-color: white;position: relative;}#sk-container-id-2 div.sk-item::before, #sk-container-id-2 div.sk-parallel-item::before {content: \"\";position: absolute;border-left: 1px solid gray;box-sizing: border-box;top: 0;bottom: 0;left: 50%;z-index: -1;}#sk-container-id-2 div.sk-parallel-item {display: flex;flex-direction: column;z-index: 1;position: relative;background-color: white;}#sk-container-id-2 div.sk-parallel-item:first-child::after {align-self: flex-end;width: 50%;}#sk-container-id-2 div.sk-parallel-item:last-child::after {align-self: flex-start;width: 50%;}#sk-container-id-2 div.sk-parallel-item:only-child::after {width: 0;}#sk-container-id-2 div.sk-dashed-wrapped {border: 1px dashed gray;margin: 0 0.4em 0.5em 0.4em;box-sizing: border-box;padding-bottom: 0.4em;background-color: white;}#sk-container-id-2 div.sk-label label {font-family: monospace;font-weight: bold;display: inline-block;line-height: 1.2em;}#sk-container-id-2 div.sk-label-container {text-align: center;}#sk-container-id-2 div.sk-container {/* jupyter's `normalize.less` sets `[hidden] { display: none; }` but bootstrap.min.css set `[hidden] { display: none !important; }` so we also need the `!important` here to be able to override the default hidden behavior on the sphinx rendered scikit-learn.org. See: https://github.com/scikit-learn/scikit-learn/issues/21755 */display: inline-block !important;position: relative;}#sk-container-id-2 div.sk-text-repr-fallback {display: none;}</style><div id=\"sk-container-id-2\" class=\"sk-top-container\"><div class=\"sk-text-repr-fallback\"><pre>Pipeline(steps=[(&#x27;vect&#x27;, CountVectorizer(ngram_range=(1, 2))),\n",
       "                (&#x27;tfidf&#x27;, TfidfTransformer()),\n",
       "                (&#x27;svm&#x27;, SVC(C=1, kernel=&#x27;linear&#x27;, random_state=1))])</pre><b>In a Jupyter environment, please rerun this cell to show the HTML representation or trust the notebook. <br />On GitHub, the HTML representation is unable to render, please try loading this page with nbviewer.org.</b></div><div class=\"sk-container\" hidden><div class=\"sk-item sk-dashed-wrapped\"><div class=\"sk-label-container\"><div class=\"sk-label sk-toggleable\"><input class=\"sk-toggleable__control sk-hidden--visually\" id=\"sk-estimator-id-5\" type=\"checkbox\" ><label for=\"sk-estimator-id-5\" class=\"sk-toggleable__label sk-toggleable__label-arrow\">Pipeline</label><div class=\"sk-toggleable__content\"><pre>Pipeline(steps=[(&#x27;vect&#x27;, CountVectorizer(ngram_range=(1, 2))),\n",
       "                (&#x27;tfidf&#x27;, TfidfTransformer()),\n",
       "                (&#x27;svm&#x27;, SVC(C=1, kernel=&#x27;linear&#x27;, random_state=1))])</pre></div></div></div><div class=\"sk-serial\"><div class=\"sk-item\"><div class=\"sk-estimator sk-toggleable\"><input class=\"sk-toggleable__control sk-hidden--visually\" id=\"sk-estimator-id-6\" type=\"checkbox\" ><label for=\"sk-estimator-id-6\" class=\"sk-toggleable__label sk-toggleable__label-arrow\">CountVectorizer</label><div class=\"sk-toggleable__content\"><pre>CountVectorizer(ngram_range=(1, 2))</pre></div></div></div><div class=\"sk-item\"><div class=\"sk-estimator sk-toggleable\"><input class=\"sk-toggleable__control sk-hidden--visually\" id=\"sk-estimator-id-7\" type=\"checkbox\" ><label for=\"sk-estimator-id-7\" class=\"sk-toggleable__label sk-toggleable__label-arrow\">TfidfTransformer</label><div class=\"sk-toggleable__content\"><pre>TfidfTransformer()</pre></div></div></div><div class=\"sk-item\"><div class=\"sk-estimator sk-toggleable\"><input class=\"sk-toggleable__control sk-hidden--visually\" id=\"sk-estimator-id-8\" type=\"checkbox\" ><label for=\"sk-estimator-id-8\" class=\"sk-toggleable__label sk-toggleable__label-arrow\">SVC</label><div class=\"sk-toggleable__content\"><pre>SVC(C=1, kernel=&#x27;linear&#x27;, random_state=1)</pre></div></div></div></div></div></div></div>"
      ],
      "text/plain": [
       "Pipeline(steps=[('vect', CountVectorizer(ngram_range=(1, 2))),\n",
       "                ('tfidf', TfidfTransformer()),\n",
       "                ('svm', SVC(C=1, kernel='linear', random_state=1))])"
      ]
     },
     "execution_count": 48,
     "metadata": {},
     "output_type": "execute_result"
    }
   ],
   "source": [
    "nb.fit(X_test['review_text'],y_test)\n",
    "lr.fit(X_test['review_text'],y_test)\n",
    "svm.fit(X_test['review_text'],y_test)"
   ]
  },
  {
   "cell_type": "markdown",
   "id": "87ec3833-502f-404a-b6ba-cbc1eaa2c384",
   "metadata": {},
   "source": [
    "## Evaluation"
   ]
  },
  {
   "cell_type": "markdown",
   "id": "5986d2c8-af9e-4557-9955-7fd612593ab7",
   "metadata": {},
   "source": [
    "### Naive Bayes"
   ]
  },
  {
   "cell_type": "code",
   "execution_count": 111,
   "id": "679d075c-62ec-4e84-87be-b0dbb512cdab",
   "metadata": {},
   "outputs": [
    {
     "name": "stdout",
     "output_type": "stream",
     "text": [
      "              precision    recall  f1-score   support\n",
      "\n",
      "           0       0.97      0.98      0.97      5174\n",
      "           1       0.97      0.95      0.96      3477\n",
      "\n",
      "    accuracy                           0.97      8651\n",
      "   macro avg       0.97      0.96      0.96      8651\n",
      "weighted avg       0.97      0.97      0.97      8651\n",
      "\n"
     ]
    },
    {
     "data": {
      "image/png": "[encoded data removed]",
      "text/plain": [
       "<Figure size 640x480 with 1 Axes>"
      ]
     },
     "metadata": {},
     "output_type": "display_data"
    }
   ],
   "source": [
    "from sklearn.metrics import ConfusionMatrixDisplay, classification_report\n",
    "import matplotlib.pyplot as plt\n",
    "\n",
    "nb_pred = nb.predict(X_test['review_text'])\n",
    "ConfusionMatrixDisplay.from_estimator(nb, X_test['review_text'], \n",
    "                                      y_test, \n",
    "                                      colorbar = False,\n",
    "                                      cmap=plt.cm.YlGnBu)\n",
    "\n",
    "print(classification_report(y_test,nb_pred))"
   ]
  },
  {
   "cell_type": "markdown",
   "id": "6a35628b-7426-4e84-815f-7bdd98382466",
   "metadata": {},
   "source": [
    "### Logistic Regression"
   ]
  },
  {
   "cell_type": "code",
   "execution_count": 77,
   "id": "2a62816c-cb3e-4d56-bf24-ff3882148c55",
   "metadata": {},
   "outputs": [
    {
     "name": "stdout",
     "output_type": "stream",
     "text": [
      "              precision    recall  f1-score   support\n",
      "\n",
      "           0       0.97      0.98      0.98      5174\n",
      "           1       0.97      0.96      0.97      3477\n",
      "\n",
      "    accuracy                           0.97      8651\n",
      "   macro avg       0.97      0.97      0.97      8651\n",
      "weighted avg       0.97      0.97      0.97      8651\n",
      "\n"
     ]
    },
    {
     "data": {
      "image/png": "[encoded data removed]",
      "text/plain": [
       "<Figure size 640x480 with 1 Axes>"
      ]
     },
     "metadata": {},
     "output_type": "display_data"
    }
   ],
   "source": [
    "lr_pred = lr.predict(X_test['review_text'])\n",
    "ConfusionMatrixDisplay.from_estimator(lr, X_test['review_text'], \n",
    "                                      y_test, \n",
    "                                      colorbar = False,\n",
    "                                      cmap=plt.cm.YlGnBu)\n",
    "\n",
    "print(classification_report(y_test,lr_pred))"
   ]
  },
  {
   "cell_type": "markdown",
   "id": "7e06798a-32af-4890-835f-89ebbfcc201f",
   "metadata": {},
   "source": [
    "### Support Vector Machine (linear kernel)"
   ]
  },
  {
   "cell_type": "code",
   "execution_count": 76,
   "id": "d4282943-8c47-47f0-b7a0-27b8cc97ca30",
   "metadata": {},
   "outputs": [
    {
     "name": "stdout",
     "output_type": "stream",
     "text": [
      "              precision    recall  f1-score   support\n",
      "\n",
      "           0       0.97      0.98      0.97      5174\n",
      "           1       0.96      0.95      0.96      3477\n",
      "\n",
      "    accuracy                           0.96      8651\n",
      "   macro avg       0.96      0.96      0.96      8651\n",
      "weighted avg       0.96      0.96      0.96      8651\n",
      "\n"
     ]
    },
    {
     "data": {
      "image/png": "[encoded data removed]",
      "text/plain": [
       "<Figure size 640x480 with 1 Axes>"
      ]
     },
     "metadata": {},
     "output_type": "display_data"
    }
   ],
   "source": [
    "svm_pred = svm.predict(X_test['review_text'])\n",
    "ConfusionMatrixDisplay.from_estimator(svm, X_test['review_text'], \n",
    "                                      y_test, \n",
    "                                      colorbar = False,\n",
    "                                      cmap=plt.cm.YlGnBu)\n",
    "\n",
    "print(classification_report(y_test,svm_pred))"
   ]
  },
  {
   "cell_type": "code",
   "execution_count": 79,
   "id": "74cfe02b-d227-4b6b-9f1a-5ac75e03d3e7",
   "metadata": {},
   "outputs": [],
   "source": [
    "coefs = lr.named_steps['lr'].coef_.ravel().tolist()\n",
    "words = lr.named_steps['vect'].get_feature_names_out().tolist()"
   ]
  },
  {
   "cell_type": "code",
   "execution_count": 81,
   "id": "556caddb-6e35-45af-b48c-bc8bfca2bc09",
   "metadata": {},
   "outputs": [
    {
     "data": {
      "text/html": [
       "<div>\n",
       "<style scoped>\n",
       "    .dataframe tbody tr th:only-of-type {\n",
       "        vertical-align: middle;\n",
       "    }\n",
       "\n",
       "    .dataframe tbody tr th {\n",
       "        vertical-align: top;\n",
       "    }\n",
       "\n",
       "    .dataframe thead th {\n",
       "        text-align: right;\n",
       "    }\n",
       "</style>\n",
       "<table border=\"1\" class=\"dataframe\">\n",
       "  <thead>\n",
       "    <tr style=\"text-align: right;\">\n",
       "      <th></th>\n",
       "      <th>Tokens</th>\n",
       "      <th>Coefs</th>\n",
       "    </tr>\n",
       "  </thead>\n",
       "  <tbody>\n",
       "    <tr>\n",
       "      <th>0</th>\n",
       "      <td>garbage</td>\n",
       "      <td>7.311678</td>\n",
       "    </tr>\n",
       "    <tr>\n",
       "      <th>1</th>\n",
       "      <td>refund</td>\n",
       "      <td>7.297232</td>\n",
       "    </tr>\n",
       "    <tr>\n",
       "      <th>2</th>\n",
       "      <td>boring</td>\n",
       "      <td>6.350763</td>\n",
       "    </tr>\n",
       "    <tr>\n",
       "      <th>3</th>\n",
       "      <td>broken</td>\n",
       "      <td>6.088720</td>\n",
       "    </tr>\n",
       "    <tr>\n",
       "      <th>4</th>\n",
       "      <td>constantly</td>\n",
       "      <td>5.930773</td>\n",
       "    </tr>\n",
       "    <tr>\n",
       "      <th>5</th>\n",
       "      <td>bad cod</td>\n",
       "      <td>5.913993</td>\n",
       "    </tr>\n",
       "    <tr>\n",
       "      <th>6</th>\n",
       "      <td>even</td>\n",
       "      <td>5.492677</td>\n",
       "    </tr>\n",
       "    <tr>\n",
       "      <th>7</th>\n",
       "      <td>unfinished</td>\n",
       "      <td>5.438177</td>\n",
       "    </tr>\n",
       "    <tr>\n",
       "      <th>8</th>\n",
       "      <td>dollar</td>\n",
       "      <td>5.282288</td>\n",
       "    </tr>\n",
       "    <tr>\n",
       "      <th>9</th>\n",
       "      <td>save</td>\n",
       "      <td>4.954841</td>\n",
       "    </tr>\n",
       "    <tr>\n",
       "      <th>10</th>\n",
       "      <td>unplayable</td>\n",
       "      <td>4.821987</td>\n",
       "    </tr>\n",
       "    <tr>\n",
       "      <th>11</th>\n",
       "      <td>mess</td>\n",
       "      <td>4.749823</td>\n",
       "    </tr>\n",
       "    <tr>\n",
       "      <th>12</th>\n",
       "      <td>ban</td>\n",
       "      <td>4.710050</td>\n",
       "    </tr>\n",
       "    <tr>\n",
       "      <th>13</th>\n",
       "      <td>trash</td>\n",
       "      <td>4.679306</td>\n",
       "    </tr>\n",
       "    <tr>\n",
       "      <th>14</th>\n",
       "      <td>sbmm</td>\n",
       "      <td>4.632377</td>\n",
       "    </tr>\n",
       "    <tr>\n",
       "      <th>15</th>\n",
       "      <td>beta</td>\n",
       "      <td>4.584399</td>\n",
       "    </tr>\n",
       "    <tr>\n",
       "      <th>16</th>\n",
       "      <td>work</td>\n",
       "      <td>4.362599</td>\n",
       "    </tr>\n",
       "    <tr>\n",
       "      <th>17</th>\n",
       "      <td>hardcore</td>\n",
       "      <td>4.273983</td>\n",
       "    </tr>\n",
       "    <tr>\n",
       "      <th>18</th>\n",
       "      <td>crap</td>\n",
       "      <td>4.178700</td>\n",
       "    </tr>\n",
       "    <tr>\n",
       "      <th>19</th>\n",
       "      <td>joke</td>\n",
       "      <td>4.139538</td>\n",
       "    </tr>\n",
       "    <tr>\n",
       "      <th>20</th>\n",
       "      <td>fucking</td>\n",
       "      <td>4.072457</td>\n",
       "    </tr>\n",
       "    <tr>\n",
       "      <th>21</th>\n",
       "      <td>dogshit</td>\n",
       "      <td>4.065279</td>\n",
       "    </tr>\n",
       "    <tr>\n",
       "      <th>22</th>\n",
       "      <td>euro</td>\n",
       "      <td>4.060165</td>\n",
       "    </tr>\n",
       "    <tr>\n",
       "      <th>23</th>\n",
       "      <td>state</td>\n",
       "      <td>3.985801</td>\n",
       "    </tr>\n",
       "    <tr>\n",
       "      <th>24</th>\n",
       "      <td>start</td>\n",
       "      <td>3.898068</td>\n",
       "    </tr>\n",
       "    <tr>\n",
       "      <th>25</th>\n",
       "      <td>waste</td>\n",
       "      <td>3.890779</td>\n",
       "    </tr>\n",
       "    <tr>\n",
       "      <th>26</th>\n",
       "      <td>activision</td>\n",
       "      <td>3.841820</td>\n",
       "    </tr>\n",
       "    <tr>\n",
       "      <th>27</th>\n",
       "      <td>disappointing</td>\n",
       "      <td>3.830203</td>\n",
       "    </tr>\n",
       "    <tr>\n",
       "      <th>28</th>\n",
       "      <td>flag</td>\n",
       "      <td>3.827639</td>\n",
       "    </tr>\n",
       "    <tr>\n",
       "      <th>29</th>\n",
       "      <td>ruin</td>\n",
       "      <td>3.813806</td>\n",
       "    </tr>\n",
       "  </tbody>\n",
       "</table>\n",
       "</div>"
      ],
      "text/plain": [
       "           Tokens     Coefs\n",
       "0         garbage  7.311678\n",
       "1          refund  7.297232\n",
       "2          boring  6.350763\n",
       "3          broken  6.088720\n",
       "4      constantly  5.930773\n",
       "5         bad cod  5.913993\n",
       "6            even  5.492677\n",
       "7      unfinished  5.438177\n",
       "8          dollar  5.282288\n",
       "9            save  4.954841\n",
       "10     unplayable  4.821987\n",
       "11           mess  4.749823\n",
       "12            ban  4.710050\n",
       "13          trash  4.679306\n",
       "14           sbmm  4.632377\n",
       "15           beta  4.584399\n",
       "16           work  4.362599\n",
       "17       hardcore  4.273983\n",
       "18           crap  4.178700\n",
       "19           joke  4.139538\n",
       "20        fucking  4.072457\n",
       "21        dogshit  4.065279\n",
       "22           euro  4.060165\n",
       "23          state  3.985801\n",
       "24          start  3.898068\n",
       "25          waste  3.890779\n",
       "26     activision  3.841820\n",
       "27  disappointing  3.830203\n",
       "28           flag  3.827639\n",
       "29           ruin  3.813806"
      ]
     },
     "execution_count": 81,
     "metadata": {},
     "output_type": "execute_result"
    }
   ],
   "source": [
    "pd.DataFrame({'Tokens': words,\n",
    "              'Coefs': coefs}).sort_values(by='Coefs',ascending=False,ignore_index=True).head(30)"
   ]
  }
 ],
 "metadata": {
  "kernelspec": {
   "display_name": "Python 3 (ipykernel)",
   "language": "python",
   "name": "python3"
  },
  "language_info": {
   "codemirror_mode": {
    "name": "ipython",
    "version": 3
   },
   "file_extension": ".py",
   "mimetype": "text/x-python",
   "name": "python",
   "nbconvert_exporter": "python",
   "pygments_lexer": "ipython3",
   "version": "3.10.4"
  }
 },
 "nbformat": 4,
 "nbformat_minor": 5
}
