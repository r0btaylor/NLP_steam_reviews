{
 "cells": [
  {
   "cell_type": "markdown",
   "id": "49e04519-4ef5-4845-a6ca-58f088ab5385",
   "metadata": {},
   "source": [
    "# Modelling - Training\n",
    "\n",
    "3 classification models are applied to the training data:\n",
    "* Multinomial Naive Bayes\n",
    "* Logistic Regression\n",
    "* Support Vector Machine (linear kernel)\n",
    "\n",
    "A pipeline is created for each to cross validate several options and hyper parameters. These include:\n",
    "* Vectorisation method (CountVectorizer, TfidfTransformer)\n",
    "* N-gram range (unigrams and bigrams)\n",
    "* Model specific hyperparameters\n",
    "\n",
    "5-fold cross-validation is performed for each and F1 accuracy scores obtained. Best parameters and best mean score for each are retained\n",
    "\n",
    "All machine learning function are provided by the Scikit-Learn library {cite}`sklearn_2011`."
   ]
  },
  {
   "cell_type": "markdown",
   "id": "235a3672-74c3-411f-896e-fecda0148e0c",
   "metadata": {},
   "source": [
    "## Load Data"
   ]
  },
  {
   "cell_type": "code",
   "execution_count": 265,
   "id": "6972443a-4602-4751-bffe-1cd3c4b3c74e",
   "metadata": {
    "tags": [
     "hide-input"
    ]
   },
   "outputs": [],
   "source": [
    "import pandas as pd\n",
    "import numpy as np\n",
    "\n",
    "# load data ----\n",
    "train_df = pd.read_csv('data/train_data_lemma.csv')\n",
    "#train_df = train_df[train_df['review_text'].str.split().str.len()>=1]\n",
    "# assign x and y\n",
    "X_train = train_df.drop(columns = ['classification'])\n",
    "y_train = train_df[['classification']]\n",
    "# flatten y\n",
    "y_train = y_train.values.ravel()\n",
    "# encode variables (minority class = 1)\n",
    "y_train = np.where(y_train=='Negative', 1, 0)"
   ]
  },
  {
   "cell_type": "markdown",
   "id": "d6f60147-42f5-48e1-a434-690c24838bbc",
   "metadata": {},
   "source": [
    "## Logistic Regression"
   ]
  },
  {
   "cell_type": "code",
   "execution_count": 266,
   "id": "7a8cd42c-03a1-4990-9191-665c57115ec8",
   "metadata": {
    "tags": [
     "hide-input"
    ]
   },
   "outputs": [
    {
     "name": "stdout",
     "output_type": "stream",
     "text": [
      "Best score: 0.838\n",
      "Best parameters:\n",
      "{'lr__C': 10, 'tfidf__norm': 'l2', 'tfidf__use_idf': False, 'vect__ngram_range': (1, 2)}\n"
     ]
    }
   ],
   "source": [
    "from sklearn.feature_extraction.text import CountVectorizer\n",
    "from sklearn.feature_extraction.text import TfidfTransformer\n",
    "from sklearn.linear_model import LogisticRegression\n",
    "from sklearn.model_selection import GridSearchCV\n",
    "from sklearn.pipeline import Pipeline\n",
    "\n",
    "pipeline = Pipeline(\n",
    "    [\n",
    "        (\"vect\", CountVectorizer()),\n",
    "        (\"tfidf\", TfidfTransformer()),\n",
    "        (\"lr\", LogisticRegression(random_state = 1, max_iter=500)),\n",
    "    ]\n",
    ")\n",
    "\n",
    "parameters = {\n",
    "    \"vect__ngram_range\": ((1, 1), (1, 2)),\n",
    "    'tfidf__use_idf': (True, False),\n",
    "    'tfidf__norm': ('l1', 'l2'),\n",
    "    \"lr__C\": (0.001, 0.01, 0.1, 1, 10),\n",
    "}\n",
    "\n",
    "lr_grid = GridSearchCV(pipeline, parameters, n_jobs=-1, verbose=0, scoring='f1')\n",
    "lr_grid.fit(X_train.review_text, y_train)\n",
    "\n",
    "print(\"Best score: %0.3f\" % lr_grid.best_score_)\n",
    "print(\"Best parameters:\")\n",
    "print(lr_grid.best_params_)"
   ]
  },
  {
   "cell_type": "markdown",
   "id": "a9d3c969-eb52-4c46-b302-aa4d3e5af769",
   "metadata": {},
   "source": [
    "## Naive Bayes"
   ]
  },
  {
   "cell_type": "code",
   "execution_count": 267,
   "id": "1f73f4ba-ec94-4486-8e39-e00eef79b94b",
   "metadata": {
    "tags": [
     "hide-input"
    ]
   },
   "outputs": [
    {
     "name": "stdout",
     "output_type": "stream",
     "text": [
      "Best score: 0.838\n",
      "Best parameters:\n",
      "{'nb__alpha': 0.1, 'tfidf__norm': 'l2', 'tfidf__use_idf': False, 'vect__ngram_range': (1, 2)}\n"
     ]
    }
   ],
   "source": [
    "from sklearn.naive_bayes import MultinomialNB\n",
    "\n",
    "pipeline = Pipeline(\n",
    "    [\n",
    "        (\"vect\", CountVectorizer()),\n",
    "        (\"tfidf\", TfidfTransformer()),\n",
    "        (\"nb\", MultinomialNB())\n",
    "    ]\n",
    ")\n",
    "\n",
    "parameters = {\n",
    "    \"vect__ngram_range\": ((1, 1), (1, 2)),\n",
    "    'tfidf__use_idf': (True, False),\n",
    "    'tfidf__norm': ('l1', 'l2'),\n",
    "    \"nb__alpha\": (0.001, 0.01, 0.1, 1, 10)\n",
    "}\n",
    "\n",
    "nb_grid = GridSearchCV(pipeline, parameters, n_jobs=-1, verbose=0, scoring='f1')\n",
    "nb_grid.fit(X_train.review_text, y_train)\n",
    "\n",
    "print(\"Best score: %0.3f\" % nb_grid.best_score_)\n",
    "print(\"Best parameters:\")\n",
    "print(nb_grid.best_params_)"
   ]
  },
  {
   "cell_type": "markdown",
   "id": "be400a97-8dba-4ef3-97eb-2f8fced0e7e6",
   "metadata": {},
   "source": [
    "## Support Vector Machine (linear kernel)"
   ]
  },
  {
   "cell_type": "code",
   "execution_count": 268,
   "id": "2ef1ddff-e660-4c6c-b258-a5caa9352bff",
   "metadata": {
    "tags": [
     "hide-input"
    ]
   },
   "outputs": [
    {
     "name": "stdout",
     "output_type": "stream",
     "text": [
      "Fitting 5 folds for each of 40 candidates, totalling 200 fits\n",
      "Best score: 0.841\n",
      "Best parameters:\n",
      "{'svm__C': 1, 'tfidf__norm': 'l2', 'tfidf__use_idf': True, 'vect__ngram_range': (1, 2)}\n"
     ]
    }
   ],
   "source": [
    "from sklearn.svm import SVC\n",
    "\n",
    "pipeline = Pipeline(\n",
    "    [\n",
    "        (\"vect\", CountVectorizer()),\n",
    "        (\"tfidf\", TfidfTransformer()),\n",
    "        (\"svm\", SVC(random_state = 1, kernel = 'linear'))\n",
    "    ]\n",
    ")\n",
    "\n",
    "parameters = {\n",
    "    \"vect__ngram_range\": ((1, 1), (1, 2)),\n",
    "    'tfidf__use_idf': (True, False),\n",
    "    'tfidf__norm': ('l1', 'l2'),\n",
    "     \"svm__C\": (0.001, 0.01, 0.1, 1, 10)\n",
    "}\n",
    "\n",
    "svm_grid = GridSearchCV(pipeline, parameters, n_jobs=-1, verbose=0, scoring='f1')\n",
    "svm_grid.fit(X_train.review_text, y_train)\n",
    "\n",
    "print(\"Best score: %0.3f\" % svm_grid.best_score_)\n",
    "print(\"Best parameters:\")\n",
    "print(svm_grid.best_params_)"
   ]
  },
  {
   "cell_type": "markdown",
   "id": "98690a19-7f22-4f66-a5d3-79fc58fb9677",
   "metadata": {},
   "source": [
    "## Summary\n",
    "Accuracy scores are very similar for the best performing parameters of each model.\n",
    "\n",
    "Results are so close that each model will be applied to the test data for comparison."
   ]
  },
  {
   "cell_type": "code",
   "execution_count": 269,
   "id": "06621890-978a-4960-9b4e-6b3a4dfb20f9",
   "metadata": {
    "tags": [
     "hide-input"
    ]
   },
   "outputs": [
    {
     "data": {
      "image/png": "[encoded data removed]",
      "text/plain": [
       "<Figure size 640x480 with 1 Axes>"
      ]
     },
     "metadata": {},
     "output_type": "display_data"
    }
   ],
   "source": [
    "import matplotlib.pyplot as plt\n",
    "import seaborn as sns\n",
    "\n",
    "# plot model performance\n",
    "sns.set_style('whitegrid')\n",
    "ax = sns.barplot(\n",
    "    data=pd.DataFrame([['NB', nb_grid.best_score_], ['LR', lr_grid.best_score_], ['SVM', svm_grid.best_score_]],columns=['Model','F1 Score']),\n",
    "    x=\"Model\",\n",
    "    y='F1 Score',\n",
    "    palette=[\"#FF6F69\",\"#ffcc5c\",\"#88D8B0\"])\n",
    "\n",
    "ax.bar_label(ax.containers[0],fmt='%.3f')\n",
    "plt.title('Classification Model Performance (Train',fontsize=14)\n",
    "plt.tick_params(labelsize=12)\n",
    "plt.tight_layout()\n",
    "plt.show();\n"
   ]
  },
  {
   "cell_type": "markdown",
   "id": "a4cff6b3-6d26-4532-9e2f-04f475022763",
   "metadata": {},
   "source": [
    "### Store Trained Models"
   ]
  },
  {
   "cell_type": "code",
   "execution_count": 270,
   "id": "46d094c4-5ce9-43d9-bf19-4a9d991705c7",
   "metadata": {
    "tags": [
     "hide-input"
    ]
   },
   "outputs": [],
   "source": [
    "# store trained models\n",
    "import pickle\n",
    "pickle.dump(nb_grid.best_estimator_, open(\"data/nb_trained.sav\", 'wb'))\n",
    "pickle.dump(lr_grid.best_estimator_, open(\"data/lr_trained.sav\", 'wb'))\n",
    "pickle.dump(svm_grid.best_estimator_, open(\"data/svm_trained.sav\", 'wb'))"
   ]
  }
 ],
 "metadata": {
  "kernelspec": {
   "display_name": "Python 3 (ipykernel)",
   "language": "python",
   "name": "python3"
  },
  "language_info": {
   "codemirror_mode": {
    "name": "ipython",
    "version": 3
   },
   "file_extension": ".py",
   "mimetype": "text/x-python",
   "name": "python",
   "nbconvert_exporter": "python",
   "pygments_lexer": "ipython3",
   "version": "3.10.4"
  }
 },
 "nbformat": 4,
 "nbformat_minor": 5
}
