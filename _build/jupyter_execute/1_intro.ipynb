{
 "cells": [
  {
   "cell_type": "markdown",
   "id": "bbb4c391-d021-435b-b7c3-4641d01de9ea",
   "metadata": {},
   "source": [
    "# Data Mining Steam Reviews\n",
    "## Extracting insight for game developers\n",
    "\n",
    "<p align=\"center\"> <img src=\"https://pngimages.in/uploads/png/Steam_Png_Image.png\"  width=\"150\" height=\"150\"> </p>\n",
    "\n",
    "### Introduction\n",
    "\n",
    "The value of the global video games market is predicted to reach 198 billion US dollars in 2022 {cite}`statista_2022` with digital sales dominating the market {cite}`orland_2022`. \n",
    "\n",
    "Boasting 132 million active users, Steam (Valve Corporation) is the leading platform for game distribution and consumption in the PC gaming space {cite}`clement_2022`.\n",
    "\n",
    "Steam user experiences represent huge amounts of potential insight for game developers. This vast quantity of data, combined with the ability to push development patches directly to digital customers, could facilitate a more responsive development cycle if developers could efficently access the wealth of bug fix and feature request information contained in user reviews.\n",
    "\n",
    "The purpose of this project was to explore a machine learning solution to extract key information from Steam user reviews that could highlight prominent features of game design to the developer.\n",
    "\n",
    "\n",
    "\n"
   ]
  }
 ],
 "metadata": {
  "kernelspec": {
   "display_name": "Python 3 (ipykernel)",
   "language": "python",
   "name": "python3"
  },
  "language_info": {
   "codemirror_mode": {
    "name": "ipython",
    "version": 3
   },
   "file_extension": ".py",
   "mimetype": "text/x-python",
   "name": "python",
   "nbconvert_exporter": "python",
   "pygments_lexer": "ipython3",
   "version": "3.10.4"
  }
 },
 "nbformat": 4,
 "nbformat_minor": 5
}