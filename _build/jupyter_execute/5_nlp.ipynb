{
 "cells": [
  {
   "cell_type": "markdown",
   "id": "6c279e0d-83bf-4f9e-9a86-c85a1e22d272",
   "metadata": {},
   "source": [
    "(references:NLP)=\n",
    "# Natural Language Processing\n",
    "\n",
    "The following natural language processing pipeline is performed to clean and process text ready for text-based exloratory analysis.\n",
    "\n",
    "The NLP pipeline uses the `spaCy` package for Python {cite}`spacy_2020`.\n",
    "\n",
    "<p align=\"center\"> <img src=\"https://i.imgur.com/7zpgIyf.png\"> </p>"
   ]
  },
  {
   "cell_type": "markdown",
   "id": "ba85c010-d796-45df-9dfd-f3e032b6d380",
   "metadata": {},
   "source": [
    "## Load Data"
   ]
  },
  {
   "cell_type": "code",
   "execution_count": 1,
   "id": "916218bf-a5ec-4726-b2f8-047be86be19a",
   "metadata": {
    "tags": [
     "hide-input"
    ]
   },
   "outputs": [],
   "source": [
    "import pandas as pd\n",
    "import numpy as np\n",
    "from datetime import datetime\n",
    "from sklearn.model_selection import train_test_split\n",
    "\n",
    "# load data\n",
    "df = pd.read_csv('data/processed_review_data.csv',parse_dates=['date'])\n",
    "\n",
    "# Train-test split. 20% test. Stratify on y label\n",
    "X = df.drop(columns = ['classification'])\n",
    "y = df[['classification']]\n",
    "X_train, X_test, y_train, y_test = train_test_split(X, y, test_size = 0.2, random_state = 1, stratify = y)\n",
    "\n",
    "# re-compile training set for eda\n",
    "df = pd.concat([X_train, y_train], axis = 1).reset_index()\n",
    "df.drop(columns = 'index',inplace=True)"
   ]
  },
  {
   "cell_type": "markdown",
   "id": "ec7936d3-8c89-4c08-97fd-c2b8f6f068b9",
   "metadata": {},
   "source": [
    "## Text Clean-up\n",
    "\n",
    "Here text is cleaned and prepared for the proceeding NLP pipeline.  \n",
    "At each step, a function is created and mapped to the `review_text` variable."
   ]
  },
  {
   "cell_type": "markdown",
   "id": "bee63666-8387-4455-9a7e-8fa6291bef1c",
   "metadata": {},
   "source": [
    "`````{admonition} Note\n",
    ":class: tip\n",
    "All functions are also stored in a seperate file .py file to be called again later in model testing.\n",
    "`````"
   ]
  },
  {
   "cell_type": "markdown",
   "id": "a6959e89-476f-4e58-a5b0-d95bb9f848f8",
   "metadata": {},
   "source": [
    "### Lower Case\n",
    "All capitalisation is removed from the text"
   ]
  },
  {
   "cell_type": "code",
   "execution_count": 2,
   "id": "8e170d98-cfcb-4e66-b503-af377ea1348d",
   "metadata": {
    "tags": [
     "hide-input"
    ]
   },
   "outputs": [
    {
     "data": {
      "text/html": [
       "<div>\n",
       "<style scoped>\n",
       "    .dataframe tbody tr th:only-of-type {\n",
       "        vertical-align: middle;\n",
       "    }\n",
       "\n",
       "    .dataframe tbody tr th {\n",
       "        vertical-align: top;\n",
       "    }\n",
       "\n",
       "    .dataframe thead th {\n",
       "        text-align: right;\n",
       "    }\n",
       "</style>\n",
       "<table border=\"1\" class=\"dataframe\">\n",
       "  <thead>\n",
       "    <tr style=\"text-align: right;\">\n",
       "      <th></th>\n",
       "      <th>review_text</th>\n",
       "    </tr>\n",
       "  </thead>\n",
       "  <tbody>\n",
       "    <tr>\n",
       "      <th>0</th>\n",
       "      <td>not many issues on my end like others are claiming.\\n\\nhaving a lot of fun with this cod glad movement isn't a big role in this one (slide cancelling)\\ngun balance is pretty solid most weapons are...</td>\n",
       "    </tr>\n",
       "    <tr>\n",
       "      <th>1</th>\n",
       "      <td>crashes more than nikita mazepin did in f1</td>\n",
       "    </tr>\n",
       "    <tr>\n",
       "      <th>2</th>\n",
       "      <td>what can i say?  i bought the game for the single player campaign, i got a game with a single player campaign.  i know it is multiplayer but it isn't really that right now.  what the multiplayer a...</td>\n",
       "    </tr>\n",
       "    <tr>\n",
       "      <th>3</th>\n",
       "      <td>is that video game or movie?</td>\n",
       "    </tr>\n",
       "    <tr>\n",
       "      <th>4</th>\n",
       "      <td>mashallah</td>\n",
       "    </tr>\n",
       "  </tbody>\n",
       "</table>\n",
       "</div>"
      ],
      "text/plain": [
       "                                                                                                                                                                                               review_text\n",
       "0  not many issues on my end like others are claiming.\\n\\nhaving a lot of fun with this cod glad movement isn't a big role in this one (slide cancelling)\\ngun balance is pretty solid most weapons are...\n",
       "1                                                                                                                                                               crashes more than nikita mazepin did in f1\n",
       "2  what can i say?  i bought the game for the single player campaign, i got a game with a single player campaign.  i know it is multiplayer but it isn't really that right now.  what the multiplayer a...\n",
       "3                                                                                                                                                                             is that video game or movie?\n",
       "4                                                                                                                                                                                                mashallah"
      ]
     },
     "metadata": {},
     "output_type": "display_data"
    }
   ],
   "source": [
    "#define lower case function\n",
    "def lower_case(text):\n",
    "    text = text.lower()\n",
    "    return text\n",
    "\n",
    "# map to all review data\n",
    "df = df.copy()\n",
    "df['review_text'] = df['review_text'].astype(str).map(lower_case)\n",
    "\n",
    "from pandas import option_context\n",
    "with option_context('display.max_colwidth', 200):\n",
    "    display(df[[\"review_text\"]].head())"
   ]
  },
  {
   "cell_type": "markdown",
   "id": "48718370-4e1f-4d48-bc2c-ad89e7dca4e5",
   "metadata": {},
   "source": [
    "### Expand Contractions\n",
    "\n",
    "A dictionary of expanded contractions is first created. This dictionary is used to replace all contractions with their expanded form.\n",
    "\n",
    "(code modified from [here](https://gist.github.com/nealrs/96342d8231b75cf4bb82))"
   ]
  },
  {
   "cell_type": "code",
   "execution_count": 3,
   "id": "5577c2db-32bd-4da2-88c8-31fa83eae284",
   "metadata": {
    "tags": [
     "hide-input"
    ]
   },
   "outputs": [
    {
     "data": {
      "text/html": [
       "<div>\n",
       "<style scoped>\n",
       "    .dataframe tbody tr th:only-of-type {\n",
       "        vertical-align: middle;\n",
       "    }\n",
       "\n",
       "    .dataframe tbody tr th {\n",
       "        vertical-align: top;\n",
       "    }\n",
       "\n",
       "    .dataframe thead th {\n",
       "        text-align: right;\n",
       "    }\n",
       "</style>\n",
       "<table border=\"1\" class=\"dataframe\">\n",
       "  <thead>\n",
       "    <tr style=\"text-align: right;\">\n",
       "      <th></th>\n",
       "      <th>review_text</th>\n",
       "    </tr>\n",
       "  </thead>\n",
       "  <tbody>\n",
       "    <tr>\n",
       "      <th>0</th>\n",
       "      <td>not many issues on my end like others are claiming.\\n\\nhaving a lot of fun with this cod glad movement is not a big role in this one (slide cancelling)\\ngun balance is pretty solid most weapons ar...</td>\n",
       "    </tr>\n",
       "    <tr>\n",
       "      <th>1</th>\n",
       "      <td>crashes more than nikita mazepin did in f1</td>\n",
       "    </tr>\n",
       "    <tr>\n",
       "      <th>2</th>\n",
       "      <td>what can i say?  i bought the game for the single player campaign, i got a game with a single player campaign.  i know it is multiplayer but it is not really that right now.  what the multiplayer ...</td>\n",
       "    </tr>\n",
       "    <tr>\n",
       "      <th>3</th>\n",
       "      <td>is that video game or movie?</td>\n",
       "    </tr>\n",
       "    <tr>\n",
       "      <th>4</th>\n",
       "      <td>mashallah</td>\n",
       "    </tr>\n",
       "  </tbody>\n",
       "</table>\n",
       "</div>"
      ],
      "text/plain": [
       "                                                                                                                                                                                               review_text\n",
       "0  not many issues on my end like others are claiming.\\n\\nhaving a lot of fun with this cod glad movement is not a big role in this one (slide cancelling)\\ngun balance is pretty solid most weapons ar...\n",
       "1                                                                                                                                                               crashes more than nikita mazepin did in f1\n",
       "2  what can i say?  i bought the game for the single player campaign, i got a game with a single player campaign.  i know it is multiplayer but it is not really that right now.  what the multiplayer ...\n",
       "3                                                                                                                                                                             is that video game or movie?\n",
       "4                                                                                                                                                                                                mashallah"
      ]
     },
     "metadata": {},
     "output_type": "display_data"
    }
   ],
   "source": [
    "import re\n",
    "\n",
    "# define contractions dictionary\n",
    "cList = {\n",
    "    # A.\n",
    "    \"ain't\": \"am not\",\"aren't\": \"are not\",\n",
    "    # C.\n",
    "    \"can't\": \"cannot\",\"can't've\": \"cannot have\",\"'cause\": \"because\",\"could've\": \"could have\",\"couldn't\": \"could not\",\n",
    "    \"couldnt\": \"could not\",\"couldn't've\": \"could not have\",\n",
    "    # D.\n",
    "    \"didn't\": \"did not\",\"doesn't\": \"does not\",\"don't\": \"do not\",\n",
    "    # H.\n",
    "    \"hadn't\": \"had not\",\"hadn't've\": \"had not have\",\"hasn't\": \"has not\",\"haven't\": \"have not\",\"he'd\": \"he would\",\n",
    "    \"he'd've\": \"he would have\",\"he'll\": \"he will\",\"he'll've\": \"he will have\",\"he's\": \"he is\",\"how'd\": \"how did\",\n",
    "    \"how'd'y\": \"how do you\",\"how'll\": \"how will\",\"how's\": \"how is\",\n",
    "    # I.\n",
    "    \"i'd\": \"i would\",\"i'd've\": \"i would have\",\"i'll\": \"i will\",\"i'll've\": \"i will have\",\"i'm\": \"i am\",\"i've\": \"i have\",\n",
    "    \"isn't\": \"is not\",\"it'd\": \"it had\",\"it'd've\": \"it would have\",\"it'll\": \"it will\",\"itll\": \"it will\",\n",
    "    \"it'll've\": \"it will have\",\"it's\": \"it is\",\n",
    "    # L.\n",
    "    \"let's\": \"let us\",\n",
    "    # M.\n",
    "    \"ma'am\": \"madam\",\"mayn't\": \"may not\",\"might've\": \"might have\",\"mightn't\": \"might not\",\"mightn't've\": \"might not have\",\n",
    "    \"must've\": \"must have\",\"mustn't\": \"must not\",\"mustn't've\": \"must not have\",\n",
    "    # N.\n",
    "    \"needn't\": \"need not\",\"needn't've\": \"need not have\",\n",
    "    # O.\n",
    "    \"o'clock\": \"of the clock\",\"oughtn't\": \"ought not\",\"oughtn't've\": \"ought not have\",\n",
    "    # S.\n",
    "    \"shan't\": \"shall not\",\"sha'n't\": \"shall not\",\"shan't've\": \"shall not have\",\"she'd\": \"she would\",\n",
    "    \"she'd've\": \"she would have\",\"she'll\": \"she will\",\"she'll've\": \"she will have\",\"she's\": \"she is\",\"should've\": \"should have\",\n",
    "    \"shouldn't\": \"should not\",\"shouldn't've\": \"should not have\",\"so've\": \"so have\",\"so's\": \"so is\",\n",
    "    # T.\n",
    "    \"that'd\": \"that would\",\"that'd've\": \"that would have\",\"that's\": \"that is\",\"there'd\": \"there had\",\n",
    "    \"there'd've\": \"there would have\",\"there's\": \"there is\",\"they'd\": \"they would\",\"they'd've\": \"they would have\",\n",
    "    \"they'll\": \"they will\",\"they'll've\": \"they will have\",\"they're\": \"they are\",\"they've\": \"they have\",\"to've\": \"to have\",\n",
    "    # V.\n",
    "    \"vr\" : \"virtual reality\",\n",
    "    # W.\n",
    "    \"wasn't\": \"was not\",\"we'd\": \"we had\",\"we'd've\": \"we would have\",\"we'll\": \"we will\",\"we'll've\": \"we will have\",\n",
    "    \"we're\": \"we are\",\"we've\": \"we have\",\"weren't\": \"were not\",\"what'll\": \"what will\",\"what'll've\": \"what will have\",\n",
    "    \"what're\": \"what are\",\"what's\": \"what is\",\"what've\": \"what have\",\"when's\": \"when is\",\"when've\": \"when have\",\n",
    "    \"where'd\": \"where did\",\"where's\": \"where is\",\"where've\": \"where have\",\"who'll\": \"who will\",\"who'll've\": \"who will have\",\n",
    "    \"who's\": \"who is\",\"who've\": \"who have\",\"why's\": \"why is\",\"why've\": \"why have\",\"will've\": \"will have\",\"won't\": \"will not\",\n",
    "    \"won't've\": \"will not have\",\"would've\": \"would have\",\"wouldn't\": \"would not\",\"wouldn't've\": \"would not have\",\n",
    "    # Y.\n",
    "    \"y'all\": \"you all\",\"y'alls\": \"you alls\",\"y'all'd\": \"you all would\",\"y'all'd've\": \"you all would have\",\n",
    "    \"y'all're\": \"you all are\",\"y'all've\": \"you all have\",\"you'd\": \"you had\",\"you'd've\": \"you would have\",\n",
    "    \"you'll\": \"you you will\",\"you'll've\": \"you you will have\",\"you're\": \"you are\",\"you've\": \"you have\"\n",
    "}\n",
    "c_re = re.compile('(%s)' % '|'.join(cList.keys()))\n",
    "\n",
    "# define expansion function\n",
    "def expandContractions(text, cList=cList):\n",
    "    def replace(match):\n",
    "        return cList[match.group(0)]\n",
    "    return c_re.sub(replace, text)\n",
    "\n",
    "# map to all review data\n",
    "df['review_text'] = df['review_text'].map(expandContractions)\n",
    "\n",
    "with option_context('display.max_colwidth', 200):\n",
    "    display(df[[\"review_text\"]].head())"
   ]
  },
  {
   "cell_type": "markdown",
   "id": "2d99e79c-5be4-4a57-8292-91974766faee",
   "metadata": {},
   "source": [
    "### Special Character Removal\n",
    "\n",
    "All non alphabetical characters are removed from the review text.\n",
    "\n",
    "(code modified from [here](https://www.techiedelight.com/remove-non-alphanumeric-characters-string-python/))"
   ]
  },
  {
   "cell_type": "code",
   "execution_count": 4,
   "id": "1d13f2a4-9e61-4331-b700-197a628e1027",
   "metadata": {
    "tags": [
     "hide-input"
    ]
   },
   "outputs": [
    {
     "data": {
      "text/html": [
       "<div>\n",
       "<style scoped>\n",
       "    .dataframe tbody tr th:only-of-type {\n",
       "        vertical-align: middle;\n",
       "    }\n",
       "\n",
       "    .dataframe tbody tr th {\n",
       "        vertical-align: top;\n",
       "    }\n",
       "\n",
       "    .dataframe thead th {\n",
       "        text-align: right;\n",
       "    }\n",
       "</style>\n",
       "<table border=\"1\" class=\"dataframe\">\n",
       "  <thead>\n",
       "    <tr style=\"text-align: right;\">\n",
       "      <th></th>\n",
       "      <th>review_text</th>\n",
       "    </tr>\n",
       "  </thead>\n",
       "  <tbody>\n",
       "    <tr>\n",
       "      <th>0</th>\n",
       "      <td>not many issues on my end like others are claiming having a lot of fun with this cod glad movement is not a big role in this one slide cancelling gun balance is pretty solid most weapons are good ...</td>\n",
       "    </tr>\n",
       "    <tr>\n",
       "      <th>1</th>\n",
       "      <td>crashes more than nikita mazepin did in f</td>\n",
       "    </tr>\n",
       "    <tr>\n",
       "      <th>2</th>\n",
       "      <td>what can i say i bought the game for the single player campaign i got a game with a single player campaign i know it is multiplayer but it is not really that right now what the multiplayer aspect ...</td>\n",
       "    </tr>\n",
       "    <tr>\n",
       "      <th>3</th>\n",
       "      <td>is that video game or movie</td>\n",
       "    </tr>\n",
       "    <tr>\n",
       "      <th>4</th>\n",
       "      <td>mashallah</td>\n",
       "    </tr>\n",
       "  </tbody>\n",
       "</table>\n",
       "</div>"
      ],
      "text/plain": [
       "                                                                                                                                                                                               review_text\n",
       "0  not many issues on my end like others are claiming having a lot of fun with this cod glad movement is not a big role in this one slide cancelling gun balance is pretty solid most weapons are good ...\n",
       "1                                                                                                                                                               crashes more than nikita mazepin did in f \n",
       "2  what can i say i bought the game for the single player campaign i got a game with a single player campaign i know it is multiplayer but it is not really that right now what the multiplayer aspect ...\n",
       "3                                                                                                                                                                             is that video game or movie \n",
       "4                                                                                                                                                                                                mashallah"
      ]
     },
     "metadata": {},
     "output_type": "display_data"
    }
   ],
   "source": [
    "# define non alpha removal function\n",
    "def alpha_num(text):\n",
    "    text = re.sub('[^a-zA-Z]',' ',text) #remove non-alpha\n",
    "    text = re.sub(' +',' ', text) #remove extra whitespace\n",
    "    return text\n",
    "\n",
    "# map to all review data\n",
    "df['review_text'] = df['review_text'].map(alpha_num)\n",
    "\n",
    "with option_context('display.max_colwidth', 200):\n",
    "    display(df[[\"review_text\"]].head())"
   ]
  },
  {
   "cell_type": "markdown",
   "id": "232849ae-eb1c-427c-9cbf-0d0e4cbcac10",
   "metadata": {},
   "source": [
    "### Consecutive Removal\n",
    "\n",
    "Identify and remove consecutive word duplicates and replace excessive duplicate characters (>2)."
   ]
  },
  {
   "cell_type": "code",
   "execution_count": 5,
   "id": "b7422518-58d4-40c2-adb5-b706e808fafd",
   "metadata": {
    "tags": [
     "hide-input"
    ]
   },
   "outputs": [
    {
     "data": {
      "text/html": [
       "<div>\n",
       "<style scoped>\n",
       "    .dataframe tbody tr th:only-of-type {\n",
       "        vertical-align: middle;\n",
       "    }\n",
       "\n",
       "    .dataframe tbody tr th {\n",
       "        vertical-align: top;\n",
       "    }\n",
       "\n",
       "    .dataframe thead th {\n",
       "        text-align: right;\n",
       "    }\n",
       "</style>\n",
       "<table border=\"1\" class=\"dataframe\">\n",
       "  <thead>\n",
       "    <tr style=\"text-align: right;\">\n",
       "      <th></th>\n",
       "      <th>review_text</th>\n",
       "    </tr>\n",
       "  </thead>\n",
       "  <tbody>\n",
       "    <tr>\n",
       "      <th>0</th>\n",
       "      <td>not many issues on my end like others are claiming having a lot of fun with this cod glad movement is not a big role in this one slide cancelling gun balance is pretty solid most weapons are good ...</td>\n",
       "    </tr>\n",
       "    <tr>\n",
       "      <th>1</th>\n",
       "      <td>crashes more than nikita mazepin did in f</td>\n",
       "    </tr>\n",
       "    <tr>\n",
       "      <th>2</th>\n",
       "      <td>what can i say i bought the game for the single player campaign i got a game with a single player campaign i know it is multiplayer but it is not really that right now what the multiplayer aspect ...</td>\n",
       "    </tr>\n",
       "    <tr>\n",
       "      <th>3</th>\n",
       "      <td>is that video game or movie</td>\n",
       "    </tr>\n",
       "    <tr>\n",
       "      <th>4</th>\n",
       "      <td>mashallah</td>\n",
       "    </tr>\n",
       "  </tbody>\n",
       "</table>\n",
       "</div>"
      ],
      "text/plain": [
       "                                                                                                                                                                                               review_text\n",
       "0  not many issues on my end like others are claiming having a lot of fun with this cod glad movement is not a big role in this one slide cancelling gun balance is pretty solid most weapons are good ...\n",
       "1                                                                                                                                                               crashes more than nikita mazepin did in f \n",
       "2  what can i say i bought the game for the single player campaign i got a game with a single player campaign i know it is multiplayer but it is not really that right now what the multiplayer aspect ...\n",
       "3                                                                                                                                                                             is that video game or movie \n",
       "4                                                                                                                                                                                                mashallah"
      ]
     },
     "metadata": {},
     "output_type": "display_data"
    }
   ],
   "source": [
    "# define duplicate removal function\n",
    "from itertools import groupby\n",
    "\n",
    "def consec_dup(text):\n",
    "    text = \" \".join([x[0] for x in groupby(text.split(\" \"))]) # remove repeat consecutive words\n",
    "    text = re.sub(r'(.)\\1+', r'\\1\\1',text) # replace >2 consecutive duplicate letters\n",
    "    return text\n",
    "\n",
    "# map to all review data\n",
    "df['review_text'] = df['review_text'].map(consec_dup)\n",
    "\n",
    "with option_context('display.max_colwidth', 200):\n",
    "    display(df[[\"review_text\"]].head())"
   ]
  },
  {
   "cell_type": "markdown",
   "id": "21799c03-920c-4e06-81dc-33fd7c3bf4d8",
   "metadata": {},
   "source": [
    "### NLP\n",
    "\n",
    "Here a natural language processing pipeline will be used.\n",
    "\n",
    "Several actions will be performed:\n",
    "\n",
    "**Stop Word Removal**\n",
    "A list of common words is supplied from the `nltk` module for Python {cite}`nltk_2020`. \n",
    "\n",
    "The frequency of these words is likely to be so high as to provide little analytical value and so they will be removed from the sample.\n",
    "\n",
    "**Lemmatisation**\n",
    "Lemmatisation replaces all words with their base root form which will improve the proceeding text analysis.\n",
    "\n",
    "For example: after lemmatisation, 'leaves' or 'leafs' would both be replaced with 'leaf'.\n",
    "\n",
    "Lemmatisation is provided by  the `spaCy` module {cite}`spacy_2020`.\n"
   ]
  },
  {
   "cell_type": "code",
   "execution_count": 6,
   "id": "4c507ec2-5a45-46c5-93e1-f60ca1e5a9d6",
   "metadata": {
    "tags": [
     "hide-input"
    ]
   },
   "outputs": [
    {
     "data": {
      "text/html": [
       "<div>\n",
       "<style scoped>\n",
       "    .dataframe tbody tr th:only-of-type {\n",
       "        vertical-align: middle;\n",
       "    }\n",
       "\n",
       "    .dataframe tbody tr th {\n",
       "        vertical-align: top;\n",
       "    }\n",
       "\n",
       "    .dataframe thead th {\n",
       "        text-align: right;\n",
       "    }\n",
       "</style>\n",
       "<table border=\"1\" class=\"dataframe\">\n",
       "  <thead>\n",
       "    <tr style=\"text-align: right;\">\n",
       "      <th></th>\n",
       "      <th>review_text</th>\n",
       "    </tr>\n",
       "  </thead>\n",
       "  <tbody>\n",
       "    <tr>\n",
       "      <th>0</th>\n",
       "      <td>many issue end like other claim lot fun cod glad movement big role one slide cancel gun balance pretty solid weapon good customisation interesting wish old prestige system back one though also nee...</td>\n",
       "    </tr>\n",
       "    <tr>\n",
       "      <th>1</th>\n",
       "      <td>crash nikita mazepin f</td>\n",
       "    </tr>\n",
       "    <tr>\n",
       "      <th>2</th>\n",
       "      <td>say buy single player campaign get single player campaign know multiplayer really right multiplayer aspect right mini awesome mini constantly get lockup every time get actually run somewhat well u...</td>\n",
       "    </tr>\n",
       "    <tr>\n",
       "      <th>3</th>\n",
       "      <td>video movie</td>\n",
       "    </tr>\n",
       "    <tr>\n",
       "      <th>4</th>\n",
       "      <td>mashallah</td>\n",
       "    </tr>\n",
       "  </tbody>\n",
       "</table>\n",
       "</div>"
      ],
      "text/plain": [
       "                                                                                                                                                                                               review_text\n",
       "0  many issue end like other claim lot fun cod glad movement big role one slide cancel gun balance pretty solid weapon good customisation interesting wish old prestige system back one though also nee...\n",
       "1                                                                                                                                                                                   crash nikita mazepin f\n",
       "2  say buy single player campaign get single player campaign know multiplayer really right multiplayer aspect right mini awesome mini constantly get lockup every time get actually run somewhat well u...\n",
       "3                                                                                                                                                                                              video movie\n",
       "4                                                                                                                                                                                                mashallah"
      ]
     },
     "metadata": {},
     "output_type": "display_data"
    }
   ],
   "source": [
    "import nltk\n",
    "from nltk.corpus import stopwords\n",
    "from collections import Counter\n",
    "\n",
    "# import stopwords and extend list\n",
    "stpwrds = nltk.corpus.stopwords.words('english')\n",
    "newStpWrds = [\"game\",\"play\"]\n",
    "stpwrds.extend(newStpWrds)\n",
    "\n",
    "# create dictionary to increase processing speed\n",
    "stpdict = Counter(stpwrds)\n",
    "\n",
    "import spacy\n",
    "nlp = spacy.load(\"en_core_web_sm\")\n",
    "\n",
    "def lemma(text):\n",
    "    doc = nlp(text)\n",
    "    text = [token.lemma_ for token in doc if token.text not in stpdict]\n",
    "    text = \" \".join(text)\n",
    "    return text\n",
    "\n",
    "df['review_text'] = df['review_text'].map(lemma)\n",
    "\n",
    "with option_context('display.max_colwidth', 200):\n",
    "    display(df[[\"review_text\"]].head())"
   ]
  },
  {
   "cell_type": "markdown",
   "id": "d9a7435a-eee5-4b06-be92-28e96b1bc483",
   "metadata": {},
   "source": [
    "A final check is made to remove entries with no review text.\n",
    "\n",
    "Processing obviously now makes the `review_length` feature inaccurate and so it is dropped.\n",
    "\n",
    "This concludes the creation of the final training data.\n"
   ]
  },
  {
   "cell_type": "code",
   "execution_count": 7,
   "id": "a7b78872-e40b-4ea5-8c73-96bdf28607f1",
   "metadata": {
    "tags": [
     "hide-input"
    ]
   },
   "outputs": [
    {
     "data": {
      "text/html": [
       "<div>\n",
       "<style scoped>\n",
       "    .dataframe tbody tr th:only-of-type {\n",
       "        vertical-align: middle;\n",
       "    }\n",
       "\n",
       "    .dataframe tbody tr th {\n",
       "        vertical-align: top;\n",
       "    }\n",
       "\n",
       "    .dataframe thead th {\n",
       "        text-align: right;\n",
       "    }\n",
       "</style>\n",
       "<table border=\"1\" class=\"dataframe\">\n",
       "  <thead>\n",
       "    <tr style=\"text-align: right;\">\n",
       "      <th></th>\n",
       "      <th>Missing</th>\n",
       "      <th>Present</th>\n",
       "      <th>Total</th>\n",
       "    </tr>\n",
       "  </thead>\n",
       "  <tbody>\n",
       "    <tr>\n",
       "      <th>Review Text</th>\n",
       "      <td>891</td>\n",
       "      <td>36861</td>\n",
       "      <td>37752</td>\n",
       "    </tr>\n",
       "  </tbody>\n",
       "</table>\n",
       "</div>"
      ],
      "text/plain": [
       "             Missing  Present  Total\n",
       "Review Text      891    36861  37752"
      ]
     },
     "metadata": {},
     "output_type": "display_data"
    },
    {
     "data": {
      "text/html": [
       "<div>\n",
       "<style scoped>\n",
       "    .dataframe tbody tr th:only-of-type {\n",
       "        vertical-align: middle;\n",
       "    }\n",
       "\n",
       "    .dataframe tbody tr th {\n",
       "        vertical-align: top;\n",
       "    }\n",
       "\n",
       "    .dataframe thead th {\n",
       "        text-align: right;\n",
       "    }\n",
       "</style>\n",
       "<table border=\"1\" class=\"dataframe\">\n",
       "  <thead>\n",
       "    <tr style=\"text-align: right;\">\n",
       "      <th></th>\n",
       "      <th>date</th>\n",
       "      <th>review_text</th>\n",
       "      <th>classification</th>\n",
       "    </tr>\n",
       "  </thead>\n",
       "  <tbody>\n",
       "    <tr>\n",
       "      <th>0</th>\n",
       "      <td>2022-11-01</td>\n",
       "      <td>many issue end like other claim lot fun cod gl...</td>\n",
       "      <td>Positive</td>\n",
       "    </tr>\n",
       "    <tr>\n",
       "      <th>1</th>\n",
       "      <td>2022-10-30</td>\n",
       "      <td>crash nikita mazepin f</td>\n",
       "      <td>Negative</td>\n",
       "    </tr>\n",
       "    <tr>\n",
       "      <th>2</th>\n",
       "      <td>2022-11-11</td>\n",
       "      <td>say buy single player campaign get single play...</td>\n",
       "      <td>Negative</td>\n",
       "    </tr>\n",
       "    <tr>\n",
       "      <th>3</th>\n",
       "      <td>2022-10-28</td>\n",
       "      <td>video movie</td>\n",
       "      <td>Positive</td>\n",
       "    </tr>\n",
       "    <tr>\n",
       "      <th>4</th>\n",
       "      <td>2022-11-07</td>\n",
       "      <td>mashallah</td>\n",
       "      <td>Positive</td>\n",
       "    </tr>\n",
       "    <tr>\n",
       "      <th>...</th>\n",
       "      <td>...</td>\n",
       "      <td>...</td>\n",
       "      <td>...</td>\n",
       "    </tr>\n",
       "    <tr>\n",
       "      <th>37746</th>\n",
       "      <td>2022-10-31</td>\n",
       "      <td>probably favorite call duty date modern warfar...</td>\n",
       "      <td>Positive</td>\n",
       "    </tr>\n",
       "    <tr>\n",
       "      <th>37747</th>\n",
       "      <td>2022-11-08</td>\n",
       "      <td>holy moly turn brain run like idiot shitty aim...</td>\n",
       "      <td>Positive</td>\n",
       "    </tr>\n",
       "    <tr>\n",
       "      <th>37748</th>\n",
       "      <td>2022-10-28</td>\n",
       "      <td>glad cod per year pay worth bug</td>\n",
       "      <td>Negative</td>\n",
       "    </tr>\n",
       "    <tr>\n",
       "      <th>37749</th>\n",
       "      <td>2022-10-31</td>\n",
       "      <td>call camp modern fatass</td>\n",
       "      <td>Positive</td>\n",
       "    </tr>\n",
       "    <tr>\n",
       "      <th>37750</th>\n",
       "      <td>2022-11-02</td>\n",
       "      <td>always crash</td>\n",
       "      <td>Negative</td>\n",
       "    </tr>\n",
       "  </tbody>\n",
       "</table>\n",
       "<p>36861 rows × 3 columns</p>\n",
       "</div>"
      ],
      "text/plain": [
       "            date                                        review_text  \\\n",
       "0     2022-11-01  many issue end like other claim lot fun cod gl...   \n",
       "1     2022-10-30                             crash nikita mazepin f   \n",
       "2     2022-11-11  say buy single player campaign get single play...   \n",
       "3     2022-10-28                                        video movie   \n",
       "4     2022-11-07                                          mashallah   \n",
       "...          ...                                                ...   \n",
       "37746 2022-10-31  probably favorite call duty date modern warfar...   \n",
       "37747 2022-11-08  holy moly turn brain run like idiot shitty aim...   \n",
       "37748 2022-10-28                    glad cod per year pay worth bug   \n",
       "37749 2022-10-31                            call camp modern fatass   \n",
       "37750 2022-11-02                                       always crash   \n",
       "\n",
       "      classification  \n",
       "0           Positive  \n",
       "1           Negative  \n",
       "2           Negative  \n",
       "3           Positive  \n",
       "4           Positive  \n",
       "...              ...  \n",
       "37746       Positive  \n",
       "37747       Positive  \n",
       "37748       Negative  \n",
       "37749       Positive  \n",
       "37750       Negative  \n",
       "\n",
       "[36861 rows x 3 columns]"
      ]
     },
     "execution_count": 7,
     "metadata": {},
     "output_type": "execute_result"
    }
   ],
   "source": [
    "# quantify missing\n",
    "display(pd.DataFrame({'Missing':len(df.loc[df['review_text'].str.split().str.len()<1]),\n",
    "        'Present':len(df.loc[df['review_text'].str.split().str.len()>0]),\n",
    "       'Total':len(df)},index = ['Review Text']))\n",
    "\n",
    "# drop entries with no review text\n",
    "df = df.drop(df[df['review_text'].str.split().str.len()<1].index)\n",
    "\n",
    "# drop length variable\n",
    "df.drop('review_length', axis = 1, inplace=True)\n",
    "\n",
    "# write clean training data to csv\n",
    "df.to_csv('data/train_data_lemma.csv',index=False)\n",
    "\n",
    "df"
   ]
  }
 ],
 "metadata": {
  "kernelspec": {
   "display_name": "Python 3 (ipykernel)",
   "language": "python",
   "name": "python3"
  },
  "language_info": {
   "codemirror_mode": {
    "name": "ipython",
    "version": 3
   },
   "file_extension": ".py",
   "mimetype": "text/x-python",
   "name": "python",
   "nbconvert_exporter": "python",
   "pygments_lexer": "ipython3",
   "version": "3.10.4"
  }
 },
 "nbformat": 4,
 "nbformat_minor": 5
}