{
 "cells": [
  {
   "cell_type": "markdown",
   "id": "86da1511-0958-45ce-91ec-02e42c6ac98f",
   "metadata": {},
   "source": [
    "# Method\n",
    "\n",
    "The following approach will be taken in this analysis\n",
    "\n",
    "<p align=\"center\"> <img src=\"https://i.imgur.com/wPoysqd.png\"> </p>\n",
    "\n",
    "Steam user reviews are classified as either 'recommend' or 'not recommend'. This will be used as the target label for supervised classification.\n",
    "\n",
    "Several models will be explored and the most effective applied to classify user reviews.\n",
    "\n",
    "After successful classification, weighted noun tokens will be extracted to identify prominent elements associated with each classification."
   ]
  }
 ],
 "metadata": {
  "kernelspec": {
   "display_name": "Python 3 (ipykernel)",
   "language": "python",
   "name": "python3"
  },
  "language_info": {
   "codemirror_mode": {
    "name": "ipython",
    "version": 3
   },
   "file_extension": ".py",
   "mimetype": "text/x-python",
   "name": "python",
   "nbconvert_exporter": "python",
   "pygments_lexer": "ipython3",
   "version": "3.10.4"
  }
 },
 "nbformat": 4,
 "nbformat_minor": 5
}