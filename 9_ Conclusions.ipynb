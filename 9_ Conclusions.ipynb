{
 "cells": [
  {
   "cell_type": "markdown",
   "id": "cf049b74-d338-4c7e-9706-3a66fe82821a",
   "metadata": {},
   "source": [
    "# Conclusions\n",
    "\n",
    "![negtokens](images/postokens.png)"
   ]
  },
  {
   "cell_type": "markdown",
   "id": "e3345f0c-9201-4e39-9d3d-fe5ae0b9b574",
   "metadata": {},
   "source": [
    "Looking at the extracted noun tokens for each classification, it is clear that not much insight into the relevant aspects of game design can be inferred from the results.\n",
    "\n",
    "It would seem that the method of extracting the strongest coefficients from the fitted model is not an effective means of identifying salient issues.\n",
    "\n",
    "The likely cause of this failing is that the method employed here does not match identified aspects of game design referenced in the text with associated sentiment. Rather, this method unsuccessfully attempts to derive an understanding of sentiment from the strength of a token's coefficient in each classification.\n",
    "\n",
    "Greater success in identifying prominent issues of game design will likely be experienced from an aspect based sentiment analysis approach which will form the basis of follow-up work.\n",
    "\n",
    "Despite this, notable success was demonstrated in the accurate classification of user reviews on the basis of included text.\n"
   ]
  },
  {
   "cell_type": "markdown",
   "id": "e1e6075f-6c36-41f8-aeab-ff1a8a56feca",
   "metadata": {},
   "source": [
    "<p float=\"left\">\n",
    "  <img src=\"images/postokens.png\" width=\"480\" />\n",
    "  <img src=\"images/negtokens.png\" width=\"480\" /> \n",
    "</p>"
   ]
  }
 ],
 "metadata": {
  "kernelspec": {
   "display_name": "Python 3 (ipykernel)",
   "language": "python",
   "name": "python3"
  },
  "language_info": {
   "codemirror_mode": {
    "name": "ipython",
    "version": 3
   },
   "file_extension": ".py",
   "mimetype": "text/x-python",
   "name": "python",
   "nbconvert_exporter": "python",
   "pygments_lexer": "ipython3",
   "version": "3.10.4"
  }
 },
 "nbformat": 4,
 "nbformat_minor": 5
}
